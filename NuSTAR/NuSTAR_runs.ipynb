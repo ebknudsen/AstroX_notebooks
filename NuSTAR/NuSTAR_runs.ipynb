{
  "nbformat": 4,
  "nbformat_minor": 0,
  "metadata": {
    "colab": {
      "name": "NuSTAR_runs.ipynb",
      "provenance": []
    },
    "kernelspec": {
      "display_name": "Python 3",
      "language": "python",
      "name": "python3"
    },
    "language_info": {
      "codemirror_mode": {
        "name": "ipython",
        "version": 3
      },
      "file_extension": ".py",
      "mimetype": "text/x-python",
      "name": "python",
      "nbconvert_exporter": "python",
      "pygments_lexer": "ipython3",
      "version": "3.7.3"
    }
  },
  "cells": [
    {
      "cell_type": "markdown",
      "metadata": {
        "id": "ejNW3TgcSlQe"
      },
      "source": [
        "# Simulating the NuSTAR telescope with AstroX/McXtrace using the McStasScript python package\n",
        "This is a demo exercise showing how to build a telescope form a set of datafiles and dynamically build a \n",
        "simulation of the NuSTAR telescope."
      ]
    },
    {
      "cell_type": "markdown",
      "metadata": {
        "id": "8MMAkHdhTfN_"
      },
      "source": [
        "## Introduction\n",
        "Some brief remarks about the software pieces we will be using below"
      ]
    },
    {
      "cell_type": "markdown",
      "metadata": {
        "id": "j9xMn2UkehHO"
      },
      "source": [
        "### McXtrace\n",
        "McXtrace is a general, modular open source engine for Monte Carlo X-ray tracing, originally designed for synchrotron- and XFEL instrumentation (and experiment) simulations. It can equally well be used for telescopes provided the appropriate optical elements exist. McXtrace has been around for approximately 10 yrs, and is in use at large scale facilities world wide.\n",
        "\n",
        "McXtrace distinguishes between an instrument and components. An instrument is a set of components placed in a geometry. A component can be thought of as a device, that interacts with the X-rays intersecting it. Interaction is in a broad sense of the word. For instance, a monitor is a type of component that merely measures some property of the X-ray, without influencing it.\n"
      ]
    },
    {
      "cell_type": "markdown",
      "metadata": {
        "id": "hIQ0cc-meuWa"
      },
      "source": [
        "### AstroX\n",
        "AstroX is an add-on toolbox to McXtrace. Specifically it is a collection of component definitions, example instruments, and datafiles, catering to the X-ray astronomical telescope optics community. The toolbox includes optical components to build various variants of Wolter type optical telescopes. The most basic building block is the `Shell` which is a single full-circle mirror with either a parabolic, hyperbolic, or conical longitudinal geometrical profile. Derived from the `Shell` are set of other components:\n",
        "\n",
        "* `Pore`: A walled segment of a Shell\n",
        "* `Ring`: A stack of identical Shells\n",
        "* `MM`: A mirror module, which concists of a collection of Pores stacked both radially and azimuthally. This is the basic optical block for SPO-based telescopes such as the planned ATHENA mission.\n",
        "\n",
        "In addition, AstroX includes a module for simulating Lobster-eye optics: MCP, for such geometries as BEPI-COLOMBO."
      ]
    },
    {
      "cell_type": "markdown",
      "metadata": {
        "id": "VfF1Dok_SlQt"
      },
      "source": [
        "### McStasScript\n",
        "McStasScript is developed under the EU-project PanOSC as a flexible, python interface to the widely used McStas software package for neutron Monte Carlo ray-tracing. Lately, it also supports running McXtrace by setting a small set of configuration flags at the top of the simulation script.\n",
        "\n",
        "One of the main features of McStasScript is the ability to use pythons built-in list and iteration facilities to loop over sets. This is useful when a (large) set of similar objects need to be added to a McXtrace/McStas. Using the standard interface this tends bo either tedious, error-prone, or both. For telescope optics applications it is often the case that a large set of similar objects is to be included.\n",
        "\n",
        "An additional bonus is that connecting to python libraries alongside ray tracing simulations becomes simple, for instance for data-analysis.\n"
      ]
    },
    {
      "cell_type": "markdown",
      "metadata": {
        "id": "YGLqPwDYUqO-"
      },
      "source": [
        "## Setting up the simulation"
      ]
    },
    {
      "cell_type": "markdown",
      "metadata": {
        "id": "jkg1Sd2GbJ72"
      },
      "source": [
        "Here we will first add some boilerplate code to let our notebook use AstroX/McXtrace and McStas. In this case I rely on it being available locally.\n"
      ]
    },
    {
      "cell_type": "markdown",
      "metadata": {
        "id": "qJC3JnS1SlQv"
      },
      "source": [
        "### Importing packages necessary for McXtrace simulations\n",
        "First the McStasScript package is imported, and configured to use McXtrace instead of the default McStas (which would ray-trace neutrons instead of X-ray photons)\n",
        "\n",
        "In this case I simply amend the system path to include also the directory where McStasScript resides."
      ]
    },
    {
      "cell_type": "code",
      "metadata": {
        "id": "uGOe2KQDSlQw"
      },
      "source": [
        "import sys\n",
        "sys.path.append('/home/erkn/Repositories/McStasScript')\n",
        "from mcstasscript.interface import instr, functions, plotter,reader\n",
        "\n",
        "myconfig = functions.Configurator()\n",
        "myconfig.set_mxrun_path(\"/usr/bin\")\n",
        "myconfig.set_mcxtrace_path(\"/usr/share/mcxtrace/1.5/\")\n",
        "myconfig.set_line_length(120)"
      ],
      "execution_count": null,
      "outputs": []
    },
    {
      "cell_type": "markdown",
      "metadata": {
        "id": "o_RfOvOrSlQy"
      },
      "source": [
        "### Setting up the instrument\n",
        "Here an instrument object is created. All the files related to this instrument will be placed in the run_folder which must already exist. If no input_path is specified, the current directory will be used."
      ]
    },
    {
      "cell_type": "code",
      "metadata": {
        "id": "So1ua-mrSlQz"
      },
      "source": [
        "#instantiate the instrument\n",
        "NuSTAR = instr.McXtrace_instr(\"NuSTAR\", input_folder=\"run_folder\")"
      ],
      "execution_count": null,
      "outputs": []
    },
    {
      "cell_type": "markdown",
      "metadata": {
        "id": "ieEBVrZzg4f2"
      },
      "source": [
        "We want to be able to change the energy of the impinging radiation in our simulation, so we add parameters to this effect. Such parameters may be changed dynamically, and even varied as part of a simulation run as a pointwise scan."
      ]
    },
    {
      "cell_type": "code",
      "metadata": {
        "id": "GRuozQYphZJv"
      },
      "source": [
        "#add instrument parameters\n",
        "NuSTAR.add_parameter(\"double\",\"E0\",value=40,comment=\"Central energy to simulate [keV]\")\n",
        "NuSTAR.add_parameter(\"double\",\"dE\", value=39.99, comment=\"Half width of energy range to simulate [keV]\")"
      ],
      "execution_count": null,
      "outputs": []
    },
    {
      "cell_type": "markdown",
      "metadata": {
        "id": "dA83-_qPUEcf"
      },
      "source": [
        "### Reading the input files\n",
        "In this section we read a set of datafiles which contain the geometry of the mirrors in the NuSTAR telescope. The datafiles contain specifically the midpoint radii and coatings (through an index) of the Wolter optic for the 133 mirror shells. As an example we list the first 6 lines of the datafile ```m_con_1a_110901_11.txt```.\n",
        "```\n",
        "#                   R1                   R2                   Z1                   Z2         MIRROR_ANGLE              MLENGTH               MTHICK      COATING                 RB1I                 RB1O                 RB2I                 RB2O                 ZB1I                 ZB1O                 ZB2I                 ZB2O\n",
        "#                   1D                   1D                   1D                   1D                   1D                   1D                   1D           1J                   1D                   1D                   1D                   1D                   1D                   1D                   1D                   1D\n",
        "#                   mm                   mm                   mm                   mm                  rad                   mm                   mm                                mm                   mm                   mm                   mm                   mm                   mm                   mm                   mm\n",
        "   5.456900000000E+01   5.426700000000E+01   1.125000000000E+02  -1.125000000000E+02   1.340000000000E-03   2.250000000000E+02   2.099999934435E-01            1   5.394900000000E+01   5.456900000000E+01   5.365100000000E+01   5.426700000000E+01   1.125000000000E+02   1.125000000000E+02  -1.125000000000E+02  -1.125000000000E+02\n",
        "   5.518500000000E+01   5.488100000000E+01   1.125000000000E+02  -1.125000000000E+02   1.355000000000E-03   2.250000000000E+02   2.099999934435E-01            1   5.477899999344E+01   5.518500000000E+01   5.447699999344E+01   5.488100000000E+01   1.125000000000E+02   1.125000000000E+02  -1.125000000000E+02  -1.125000000000E+02\n",
        "   5.580500000000E+01   5.549700000000E+01   1.125000000000E+02  -1.125000000000E+02   1.371000000000E-03   2.250000000000E+02   2.099999934435E-01            1   5.539499999344E+01   5.580500000000E+01   5.509099999344E+01   5.549700000000E+01   1.125000000000E+02   1.125000000000E+02  -1.125000000000E+02  -1.125000000000E+02\n",
        "```\n",
        "A similar file exists for the secondary optic: ```om_3a_110901_11.txt```\n",
        "\n",
        "The X-ray reflectivities used have to be provided as well. In the case of NuSTAR the various shell are grouped in 10 groups, each of which has a mulitlayer coating optimized for that particular angle/energy range. We define a simple python list to hold the respective filenames."
      ]
    },
    {
      "cell_type": "code",
      "metadata": {
        "id": "75GIifRlXMcE"
      },
      "source": [
        "#read data files containing shell parameters for nustar\n",
        "with open('om_con_1a_110901_t1.txt') as f:\n",
        "  primary_data=[line.split() for line in f if line.startswith('#')==False]\n",
        "\n",
        "#read data files containing shell parameters for nustar\n",
        "with open('om_con_3a_110901_t1.txt') as f:\n",
        "  secondary_data=[line.split() for line in f if line.startswith('#')==False]\n",
        "\n",
        "#these coating specifics come from F.E. Christensen et. al. 2011 and K. Madsen et. al. 2010\n",
        "coatings=['Pt_C_gp01.dat','Pt_C_gp02.dat','Pt_C_gp03.dat','Pt_C_gp04.dat','Pt_C_gp05.dat'\n",
        "  ,'Pt_C_gp06.dat','Pt_C_gp07.dat','W_Si_gp08.dat','W_Si_gp09.dat','W_Si_gp10.dat']"
      ],
      "execution_count": null,
      "outputs": []
    },
    {
      "cell_type": "markdown",
      "metadata": {
        "id": "Z32sDKH4SlQ2"
      },
      "source": [
        "### Adding a x-ray photon source\n",
        "The McXtrace simulation is described using components, the first component we will add describes the photon source. We will use a component called *Source_div*. One can ask the instrument object for help on the necessary parameters."
      ]
    },
    {
      "cell_type": "code",
      "metadata": {
        "id": "46UfaruASlQ3"
      },
      "source": [
        "instrument.component_help(\"Source_div\")"
      ],
      "execution_count": null,
      "outputs": []
    },
    {
      "cell_type": "markdown",
      "metadata": {
        "id": "bwtId1MFSlRA"
      },
      "source": [
        "Here we set up an instance of *Source_div* called *src* with our desired parameters. \n",
        "The size of the source has to be set as well. We set this to 1x1 m to make sure we illuminate the entire telescope optic.\n",
        "we have already define adjustable parameters for the X-ray energy range we want to simulate, so we simply point our source parameters to them.\n",
        "For this simple test we define our source to be perfectly collimated. This is done by setting the *focus_ah* and *focus_aw* (angular height and width) parameters to 0."
      ]
    },
    {
      "cell_type": "code",
      "metadata": {
        "id": "yq7m1wCySlRB"
      },
      "source": [
        "NuSTAR.add_component(\"src\",\"Source_div\")\n",
        "\n",
        "# Physical description\n",
        "src.xwidth = 1\n",
        "src.yheight = 1\n",
        "\n",
        "# Energy range to simulate through our telescope\n",
        "# These get their values from our defined instrument parameters\n",
        "src.E0=\"E0\"\n",
        "src.dE=\"dE\"\n",
        "\n",
        "# We want our source to be prefectly collimated, i.e. have 0-divergence vertically and horizontally\n",
        "src.focus_aw = 0\n",
        "src.focus_ah = 0"
      ],
      "execution_count": null,
      "outputs": []
    },
    {
      "cell_type": "markdown",
      "metadata": {
        "id": "h9eYpnC9mNhJ"
      },
      "source": [
        "Using the more compressed format of a python dictionary these commands may be written on a single line as:\n",
        "```\n",
        "NuSTAR.set_component_parameter(\"src\",{\"xwidth\":1.0, \"yheight\":1.0, \"E0\":\"E0\", \"dE\":\"dE\", \"focus_aw\":0.0, \"focus_ah\":0.0})\n",
        "```\n",
        "\n"
      ]
    },
    {
      "cell_type": "markdown",
      "metadata": {
        "id": "ywpDlf2tnZFi"
      },
      "source": [
        "### Monitoring the incoming radiation\n",
        "We now add two \"`monitors`\" to the simulation: one spatially resolved, and one energy-resolved. The latter may be used to normalize an identical monitor after the optic to extract the telescope's Effective Area as a function of Energy, as is done in [REF SPIE 2020 Astro] "
      ]
    },
    {
      "cell_type": "code",
      "metadata": {
        "id": "7LsPxUB2oLNh"
      },
      "source": [
        "NuSTAR.add_component(\"source_mon\",\"PSD_monitor\", RELATIVE=\"src\", AT=[0,0,1])\n",
        "NuSTAR.set_component_parameter(\"source_mon\",{\"restore_xray\": 1, \"xwidth\":1.0, \"yheight\":1.0, \"filename\": '\"source_mon.dat\"'})\n",
        "\n",
        "NuSTAR.add_component(\"source_emon\",\"E_monitor\", RELATIVE=\"src\", AT=[0,0,1])\n",
        "NuSTAR.set_component_parameter(\"source_emon\",{\"restore_xray\":1, \"xwidth\":1.0, \"yheight\":1.0, \"filename\":'\"source_emon.dat\"', \"Emin\":0, \"Emax\":80, \"nE\":401})"
      ],
      "execution_count": null,
      "outputs": []
    },
    {
      "cell_type": "markdown",
      "metadata": {
        "id": "vZtdOmpcSlRC"
      },
      "source": [
        "### Adding optics\n",
        "The NuSTAR optic consists a large set of mirrors in a conical approximation of a Wolter I type optic. Since we have the optical parameters for the optic loaded from a pair of datafiles, we may loop over the lines in the datafiles, and add the individual mirrors \"on the fly\".\n",
        "First the primary optic:"
      ]
    },
    {
      "cell_type": "code",
      "metadata": {
        "id": "DlHuUM1PSlRF"
      },
      "source": [
        "#primary optic\n",
        "base_prms={'primary':1, 'length':0.225, 'Z0':10.15}\n",
        "for i in range(0,133):\n",
        "  shell='shell_primary{:03d}'.format(i)\n",
        "  prms=base_prms\n",
        "  coat=\"\\\"nustar_{}\\\"\".format(coatings[int(primary_data[i][7])-1])\n",
        "  prms.update({'radius_m':float(primary_data[i][1])*1e-3,'mirror_reflec':coat, 'yheight':\"{}*1e-3-{}*1e-3\".format(primary_data[i][9],primary_data[i][8])})\n",
        "  NuSTAR.add_component(shell,\"Shell_c\",AT=[0,0,0],GROUP=\"primary\",RELATIVE=\"optic_midpoint\")\n",
        "  NuSTAR.set_component_parameter(shell,prms)"
      ],
      "execution_count": null,
      "outputs": []
    },
    {
      "cell_type": "markdown",
      "metadata": {
        "id": "SC58i5g3pc7-"
      },
      "source": [
        "Note that we set the primary mirrors in a `GROUP`. This makes the mirrors behave as a mutually exclusive set. Note also that we modify the `radius_m` and `yheight` parameters by 0.001, because they are given in mm in the datafiles. \n",
        "\n",
        "Next the _secondary_ optic: "
      ]
    },
    {
      "cell_type": "code",
      "metadata": {
        "id": "Rn04dPGAp5yd"
      },
      "source": [
        "#secondary optic\n",
        "base_prms['primary']=0\n",
        "for i in range(0,133):\n",
        "  shell='shell_secondary{:03d}'.format(i)\n",
        "  prms=base_prms\n",
        "  coat=\"\\\"nustar_{}\\\"\".format(coatings[int(secondary_data[i][7])-1])\n",
        "  prms.update({'radius_m':float(secondary_data[i][0])*1e-3,'mirror_reflec':coat, 'yheight':\"{}*1e-3-{}*1e-3\".format(secondary_data[i][9],secondary_data[i][8])})\n",
        "  NuSTAR.add_component(shell,\"Shell_c\",AT=[0,0,0],GROUP=\"secondary\",RELATIVE=\"optic_midpoint\")\n",
        "  NuSTAR.set_component_parameter(shell,prms)"
      ],
      "execution_count": null,
      "outputs": []
    },
    {
      "cell_type": "markdown",
      "metadata": {
        "id": "g3shSVhCSlRG"
      },
      "source": [
        "### Monitoring the outgoing radiation \n",
        "We add a set of monitors, identical to the ones before the optic. As mentioned, the main purpose of the latter is to allow direct extraction of the Effective Area."
      ]
    },
    {
      "cell_type": "code",
      "metadata": {
        "id": "ac6gDWISSlRH"
      },
      "source": [
        "NuSTAR.add_component(\"po_psd\",\"PSD_monitor\",AT=[0,0,0.226],RELATIVE=\"optic_midpoint\")\n",
        "NuSTAR.set_component_parameter(\"po_psd\",{\"restore_xray\": 1, \"xwidth\":1.0, \"yheight\":1.0, \"filename\": '\"po_mon.dat\"'})\n",
        "\n",
        "NuSTAR.add_component(\"po_emon\",\"E_monitor\",AT=[0,0,0], RELATIVE=\"PREVIOUS\")\n",
        "NuSTAR.set_component_parameter(\"po_emon\",{\"restore_xray\":1, \"xwidth\":1.0, \"yheight\":1.0, \"filename\":'\"po_emon.dat\"', \"Emin\":0, \"Emax\":80, \"nE\":401})"
      ],
      "execution_count": null,
      "outputs": []
    },
    {
      "cell_type": "markdown",
      "metadata": {
        "id": "Ses0EmSkSlRH"
      },
      "source": [
        "### Monitoring the telescope response at the focal plane.\n",
        "We add a single monitor at the focal plane. Of course this may be augmented by (many) more monitors. "
      ]
    },
    {
      "cell_type": "code",
      "metadata": {
        "id": "Syj9uV0VSlRI"
      },
      "source": [
        "NuSTAR.add_component(\"fp_psd\",\"PSD_monitor\", AT=[0,0,10.15], RELATIVE=\"optic_midpoint\")\n",
        "NuSTAR.set_component_parameter(\"fp_psd\",{\"restore_xray\":1,\"xwidth\":1e-2,\"yheight\":1e-2, \"filename\":'\"fp_psd\"'})"
      ],
      "execution_count": null,
      "outputs": []
    },
    {
      "cell_type": "markdown",
      "metadata": {
        "id": "B-vtKpzFSlRI"
      },
      "source": [
        "### Running the simulation\n",
        "Now that we have defined a complete simulation, we can run it and obtain the data. The reader is encouraged to try the simulation with different energy ranges."
      ]
    },
    {
      "cell_type": "code",
      "metadata": {
        "id": "wktjSMVvSlRJ",
        "outputId": "dd6648d8-f6b6-405b-dc35-7513cb6c656a"
      },
      "source": [
        "energy = 40 # Change the central sampled energy here\n",
        "energy_spread = 39.9 # Change half-width of the energy range here. Remember to avoid reaching negative values. \n",
        "data = NuSTAR.run_full_instrument(ncount=1e6, foldername=\"data_folder/exercise\",\n",
        "                                      parameters={\"E0\":energy, \"dE\":energy_spread },\n",
        "                                      increment_folder_name=True)"
      ],
      "execution_count": null,
      "outputs": [
        {
          "output_type": "stream",
          "text": [
            "INFO: Using directory: \"/Users/madsbertelsen/PaNOSC/WP8/e-learning_notebook/data_folder/exercise_9\"\n",
            "INFO: Regenerating c-file: e_learning_exercise.c\n",
            "CFLAGS=\n",
            "INFO: Recompiling: ./e_learning_exercise.out\n",
            "INFO: ===\n",
            "INFO: Placing instr file copy e_learning_exercise.instr in dataset /Users/madsbertelsen/PaNOSC/WP8/e-learning_notebook/data_folder/exercise_9\n",
            "\n",
            "      Opening input file '/Applications/McStas-2.5.app/Contents/Resources/mcstas/2.5/tools/Python/mcrun/../mccodelib/../../../data/Pb.laz' (Table_Read_Offset)\n",
            "Table from file 'Pb.laz' (block 1) is 41 x 18 (x=1:9), constant step. interpolation: linear\n",
            "  '# TITLE *-Pb-[FM3-M] Bouad, N.; Chapon, L.; Marin-Ayral, R.-M.; B[2003] [to ...'\n",
            "PowderN: sample: Reading 41 rows from Pb.laz\n",
            "PowderN: sample: Read 41 reflections from file 'Pb.laz'\n",
            "PowderN: sample: Vc=121.29 [Angs] sigma_abs=0.684 [barn] sigma_inc=0.012 [barn] reflections=Pb.laz\n",
            "Detector: banana_I=28412.4 banana_ERR=254.979 banana_N=73914 \"banana.dat\"\n",
            "\n"
          ],
          "name": "stdout"
        }
      ]
    },
    {
      "cell_type": "markdown",
      "metadata": {
        "id": "-zt1sZFJSlRK"
      },
      "source": [
        "### Plotting the data\n",
        "McStasScript has a plotter built in that can provide a quick overview of the simulated data. "
      ]
    },
    {
      "cell_type": "code",
      "metadata": {
        "id": "qCWpcTNBSlRL",
        "outputId": "10738e53-4ea7-4609-d669-f62f95994f3a"
      },
      "source": [
        "plotter.make_sub_plot(data, fontsize=16)"
      ],
      "execution_count": null,
      "outputs": [
        {
          "output_type": "stream",
          "text": [
            "number of elements in data list = 1\n",
            "Plotting data with name banana\n"
          ],
          "name": "stdout"
        },
        {
          "output_type": "display_data",
          "data": {
            "image/png": "[encoded data removed]",
            "text/plain": [
              "<Figure size 936x504 with 1 Axes>"
            ]
          },
          "metadata": {
            "tags": [],
            "needs_background": "light"
          }
        },
        {
          "output_type": "execute_result",
          "data": {
            "text/plain": [
              "<mcstasscript.interface.plotter.make_sub_plot at 0x1179a84a8>"
            ]
          },
          "metadata": {
            "tags": []
          },
          "execution_count": 9
        }
      ]
    },
    {
      "cell_type": "markdown",
      "metadata": {
        "id": "CbqV2eKsynfc"
      },
      "source": [
        "The data \"blob\" returned by McStasScript contains the monitor data of the instrument as set set of numpy arrays.\n",
        "To e.g. extract the energy resolved Effective Area of the telescope we may follow the proceudre outlined in Knudsen (2020). This simply requires us to divide the intensity histogram after the optic with an identical histogram before, and normalize by the illuminated area (in this case *1*).\n",
        "\n",
        "To extract a single monitor's data from the data blob we use the function *name_search*."
      ]
    },
    {
      "cell_type": "code",
      "metadata": {
        "id": "lT133zOfzvB5"
      },
      "source": [
        "S_before = functions.name_search(\"emon0\",data)\n",
        "S_after = functions.name_search(\"emon1\",data)\n",
        "A_eff = numpy.divide(emon1,emon0)\n",
        "#Plot it somehow"
      ],
      "execution_count": null,
      "outputs": []
    }
  ]
}